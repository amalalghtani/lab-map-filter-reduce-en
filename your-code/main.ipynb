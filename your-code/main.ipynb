{
 "cells": [
  {
   "cell_type": "markdown",
   "metadata": {},
   "source": [
    "# Before your start:\n",
    "- Read the README.md file\n",
    "- Comment as much as you can and use the resources in the README.md file\n",
    "- Happy learning!"
   ]
  },
  {
   "cell_type": "code",
   "execution_count": 2,
   "metadata": {},
   "outputs": [
    {
     "name": "stdout",
     "output_type": "stream",
     "text": [
      "Requirement already satisfied: pandas in c:\\users\\96655\\appdata\\local\\programs\\python\\python311\\lib\\site-packages (2.2.3)\n",
      "Requirement already satisfied: numpy>=1.23.2 in c:\\users\\96655\\appdata\\local\\programs\\python\\python311\\lib\\site-packages (from pandas) (2.2.3)\n",
      "Requirement already satisfied: python-dateutil>=2.8.2 in c:\\users\\96655\\appdata\\roaming\\python\\python311\\site-packages (from pandas) (2.9.0.post0)\n",
      "Requirement already satisfied: pytz>=2020.1 in c:\\users\\96655\\appdata\\local\\programs\\python\\python311\\lib\\site-packages (from pandas) (2025.1)\n",
      "Requirement already satisfied: tzdata>=2022.7 in c:\\users\\96655\\appdata\\local\\programs\\python\\python311\\lib\\site-packages (from pandas) (2025.1)\n",
      "Requirement already satisfied: six>=1.5 in c:\\users\\96655\\appdata\\roaming\\python\\python311\\site-packages (from python-dateutil>=2.8.2->pandas) (1.17.0)\n",
      "Note: you may need to restart the kernel to use updated packages.\n"
     ]
    },
    {
     "name": "stderr",
     "output_type": "stream",
     "text": [
      "\n",
      "[notice] A new release of pip is available: 23.1.2 -> 25.0.1\n",
      "[notice] To update, run: python.exe -m pip install --upgrade pip\n"
     ]
    }
   ],
   "source": [
    "pip install pandas"
   ]
  },
  {
   "cell_type": "code",
   "execution_count": 4,
   "metadata": {},
   "outputs": [],
   "source": [
    "# Import reduce from functools, numpy and pandas\n",
    "from functools import reduce\n",
    "import numpy\n",
    "import pandas"
   ]
  },
  {
   "cell_type": "markdown",
   "metadata": {},
   "source": [
    "# Challenge 1 - Mapping\n",
    "\n",
    "#### We will use the map function to clean up words in a book.\n",
    "\n",
    "In the following cell, we will read a text file containing the book The Prophet by Khalil Gibran."
   ]
  },
  {
   "cell_type": "code",
   "execution_count": 5,
   "metadata": {},
   "outputs": [],
   "source": [
    "# Run this code:\n",
    "\n",
    "location = '../data/58585-0.txt'\n",
    "with open(location, 'r', encoding=\"utf8\") as f:\n",
    "    prophet = f.read().split(' ')"
   ]
  },
  {
   "cell_type": "markdown",
   "metadata": {},
   "source": []
  },
  {
   "cell_type": "markdown",
   "metadata": {},
   "source": []
  },
  {
   "cell_type": "code",
   "execution_count": 6,
   "metadata": {},
   "outputs": [
    {
     "data": {
      "text/plain": [
       "13637"
      ]
     },
     "execution_count": 6,
     "metadata": {},
     "output_type": "execute_result"
    }
   ],
   "source": [
    "len(prophet)"
   ]
  },
  {
   "cell_type": "markdown",
   "metadata": {},
   "source": [
    "#### Let's remove the first 568 words since they contain information about the book but are not part of the book itself. \n",
    "\n",
    "Do this by removing from `prophet` elements 0 through 567 of the list (you can also do this by keeping elements 568 through the last element)."
   ]
  },
  {
   "cell_type": "code",
   "execution_count": 7,
   "metadata": {},
   "outputs": [],
   "source": [
    "# your code here\n",
    "prophet=prophet [568:]"
   ]
  },
  {
   "cell_type": "markdown",
   "metadata": {},
   "source": []
  },
  {
   "cell_type": "markdown",
   "metadata": {},
   "source": [
    "If you look through the words, you will find that many words have a reference attached to them. For example, let's look at words 1 through 10."
   ]
  },
  {
   "cell_type": "code",
   "execution_count": 8,
   "metadata": {},
   "outputs": [
    {
     "name": "stdout",
     "output_type": "stream",
     "text": [
      "['burden', 'and', 'an', 'ache', 'it', 'is', 'not', 'a', 'garment', 'i']\n"
     ]
    }
   ],
   "source": [
    "# your code here\n",
    "import re\n",
    "\n",
    "def clean_word(word):\n",
    "    # Remove unwanted characters like references, numbers, punctuation, etc.\n",
    "    cleaned_word = re.sub(r'[^\\w\\s]', '', word)  # Removes any punctuation\n",
    "    return cleaned_word.lower()  # Optionally, convert to lowercase\n",
    "\n",
    "def process_book(file_path):\n",
    "    with open(file_path, 'r') as file:\n",
    "        # Read the file content\n",
    "        text = file.read()\n",
    "\n",
    "    # Split the text into words\n",
    "    words = text.split()\n",
    "\n",
    "    # Skip the first 568 words (metadata)\n",
    "    words = words[568:]\n",
    "\n",
    "    # Clean up the words using the map function\n",
    "    cleaned_words = list(map(clean_word, words))\n",
    "\n",
    "    return cleaned_words\n",
    "\n",
    "# Example usage\n",
    "file_path = '../data/58585-0.txt'\n",
    "cleaned_words = process_book(file_path)\n",
    "\n",
    "# Display words 1 through 10 after cleaning\n",
    "print(cleaned_words[:10])  # Displaying the first 10 cleaned words\n"
   ]
  },
  {
   "cell_type": "markdown",
   "metadata": {},
   "source": [
    "#### The next step is to create a function that will remove references. \n",
    "\n",
    "We will do this by splitting the string on the `{` character and keeping only the part before this character. Write your function below."
   ]
  },
  {
   "cell_type": "code",
   "execution_count": 9,
   "metadata": {},
   "outputs": [
    {
     "name": "stdout",
     "output_type": "stream",
     "text": [
      "x123\n",
      "example\n",
      "no_reference\n",
      "\n"
     ]
    }
   ],
   "source": [
    "\n",
    "    \n",
    "    # your code here\n",
    "def reference(x):\n",
    "     \n",
    "       if x is not None:\n",
    "    #is not None and '{' in x:\n",
    "          x = x.split('{')[0].strip()\n",
    "       return x\n",
    "\n",
    "# اختبار الدالة\n",
    "print(reference(\"x123{reference}\"))  \n",
    "print(reference(\"example{test}\"))  \n",
    "print(reference(\"no_reference\"))  \n",
    "print(reference(\"\"))\n",
    "\n",
    "\n"
   ]
  },
  {
   "cell_type": "code",
   "execution_count": null,
   "metadata": {},
   "outputs": [],
   "source": [
    "# your code here"
   ]
  },
  {
   "cell_type": "markdown",
   "metadata": {},
   "source": [
    "Now that we have our function, use the `map()` function to apply this function to our book, The Prophet. Return the resulting list to a new list called `prophet_reference`."
   ]
  },
  {
   "cell_type": "code",
   "execution_count": 10,
   "metadata": {},
   "outputs": [
    {
     "name": "stdout",
     "output_type": "stream",
     "text": [
      "['burden', 'and', 'an', 'ache', 'it', 'is', 'not', 'a', 'garment', 'i']\n"
     ]
    }
   ],
   "source": [
    "# your code here\n",
    "\n",
    "prophet_reference = list(map(reference, cleaned_words))\n",
    "\n",
    "print(prophet_reference[:10])"
   ]
  },
  {
   "cell_type": "markdown",
   "metadata": {},
   "source": [
    "Another thing you may have noticed is that some words contain a line break. Let's write a function to split those words. Our function will return the string split on the character `\\n`. Write your function in the cell below."
   ]
  },
  {
   "cell_type": "code",
   "execution_count": 11,
   "metadata": {},
   "outputs": [],
   "source": [
    "def split_on_newline(word):\n",
    "       return word.split('\\n')  \n",
    "    "
   ]
  },
  {
   "cell_type": "markdown",
   "metadata": {},
   "source": [
    "Apply the `line_break` function to the `prophet_reference` list. Name the new list `prophet_line`."
   ]
  },
  {
   "cell_type": "code",
   "execution_count": 12,
   "metadata": {
    "scrolled": true
   },
   "outputs": [
    {
     "name": "stdout",
     "output_type": "stream",
     "text": [
      "['burden', 'and', 'an', 'ache', 'it']\n"
     ]
    }
   ],
   "source": [
    "# your code here\n",
    "\n",
    "prophet_split = map(split_on_newline, prophet_reference)\n",
    "\n",
    "# تفريغ (flatten) القائمة بحيث تكون جميع الكلمات في قائمة واحدة\n",
    "prophet_line = [word for sublist in prophet_split for word in sublist]\n",
    "\n",
    "# عرض أول 10 كلمات بعد التنظيف\n",
    "print(prophet_line[:5])"
   ]
  },
  {
   "cell_type": "markdown",
   "metadata": {},
   "source": [
    "If you look at the elements of `prophet_line`, you will see that the function returned lists and not strings. Our list is now a list of lists. Flatten the list using list comprehension. Assign this new list to `prophet_flat`."
   ]
  },
  {
   "cell_type": "code",
   "execution_count": 13,
   "metadata": {},
   "outputs": [
    {
     "name": "stdout",
     "output_type": "stream",
     "text": [
      "['b', 'u', 'r', 'd', 'e', 'n', 'a', 'n', 'd', 'a']\n"
     ]
    }
   ],
   "source": [
    "\n",
    "\n",
    "prophet_flat = [word for sublist in prophet_line for word in sublist]\n",
    "\n",
    "# عرض أول 10 كلمات للتحقق من النتيجة\n",
    "print(prophet_flat[:10])"
   ]
  },
  {
   "cell_type": "code",
   "execution_count": 14,
   "metadata": {},
   "outputs": [],
   "source": [
    "# your code here"
   ]
  },
  {
   "cell_type": "markdown",
   "metadata": {},
   "source": [
    "# Challenge 2 - Filtering\n",
    "\n",
    "When printing out a few words from the book, we see that there are words that we may not want to keep if we choose to analyze the corpus of text. Below is a list of words that we would like to get rid of. Create a function that will return false if it contains a word from the list of words specified and true otherwise."
   ]
  },
  {
   "cell_type": "code",
   "execution_count": 15,
   "metadata": {},
   "outputs": [
    {
     "name": "stdout",
     "output_type": "stream",
     "text": [
      "False\n",
      "True\n",
      "True\n",
      "True\n"
     ]
    }
   ],
   "source": [
    "\n",
    "    \n",
    "stop_words = ['and', 'the', 'a', 'an']\n",
    "\n",
    "# دالة للتحقق من وجود كلمة غير مرغوب فيها\n",
    "def filter_word(word):\n",
    "    # تحويل الكلمة إلى أحرف صغيرة لتجاهل الفرق بين الأحرف الكبيرة والصغيرة\n",
    "    word = word.lower()\n",
    "    # التحقق إذا كانت الكلمة تحتوي على أي كلمة من stop_words\n",
    "    if word in stop_words:\n",
    "        return False\n",
    "    return True\n",
    "\n",
    "# اختبار الدالة\n",
    "print(filter_word(\"The\"))  \n",
    "print(filter_word(\"example\"))  \n",
    "print(filter_word(\"To\"))  \n",
    "print(filter_word(\"knowledge\"))  \n",
    "    \n",
    "\n",
    " \n",
    "#word_list = ['and', 'the', 'a', 'an']\n",
    "    \n",
    "    # your code here"
   ]
  },
  {
   "cell_type": "markdown",
   "metadata": {},
   "source": [
    "Use the `filter()` function to filter out the words speficied in the `word_filter()` function. Store the filtered list in the variable `prophet_filter`."
   ]
  },
  {
   "cell_type": "code",
   "execution_count": 16,
   "metadata": {
    "scrolled": true
   },
   "outputs": [
    {
     "name": "stdout",
     "output_type": "stream",
     "text": [
      "['b', 'u', 'r', 'd', 'e', 'n', 'n', 'd', 'n', 'c']\n"
     ]
    }
   ],
   "source": [
    "# your code here# تطبيق filter لتصفية الكلمات باستخدام الدالة filter_word\n",
    "prophet_filter = list(filter(filter_word, prophet_flat))\n",
    "\n",
    "# عرض أول 10 كلمات بعد الفلترة\n",
    "print(prophet_filter[:10])"
   ]
  },
  {
   "cell_type": "markdown",
   "metadata": {},
   "source": [
    "# Bonus Challenge\n",
    "\n",
    "Rewrite the `word_filter` function above to not be case sensitive."
   ]
  },
  {
   "cell_type": "code",
   "execution_count": 17,
   "metadata": {},
   "outputs": [],
   "source": [
    "def word_filter_case(x):\n",
    "   \n",
    "    word_list = ['and', 'the', 'a', 'an']\n",
    "    \n",
    "    # your code here"
   ]
  },
  {
   "cell_type": "markdown",
   "metadata": {},
   "source": [
    "# Challenge 3 - Reducing\n",
    "\n",
    "#### Now that we have significantly cleaned up our text corpus, let's use the `reduce()` function to put the words back together into one long string separated by spaces. \n",
    "\n",
    "We will start by writing a function that takes two strings and concatenates them together with a space between the two strings."
   ]
  },
  {
   "cell_type": "code",
   "execution_count": 18,
   "metadata": {},
   "outputs": [],
   "source": [
    "\n",
    "def concat_words(word1, word2):\n",
    "    return word1 + \" \" + word2\n",
    "  \n",
    "    # your code here"
   ]
  },
  {
   "cell_type": "code",
   "execution_count": null,
   "metadata": {
    "scrolled": true
   },
   "outputs": [],
   "source": [
    "# your code here"
   ]
  },
  {
   "cell_type": "markdown",
   "metadata": {},
   "source": [
    "Use the function above to reduce the text corpus in the list `prophet_filter` into a single string. Assign this new string to the variable `prophet_string`."
   ]
  },
  {
   "cell_type": "code",
   "execution_count": 19,
   "metadata": {},
   "outputs": [
    {
     "name": "stdout",
     "output_type": "stream",
     "text": [
      "b u r d e n n d n c h e i t i s n o t g r m e n t i c s t o f f t h i s d y b u t s k i n t h t i t e r w i t h m y o w n h n d s n o r i s i t t h o u g h t i l e v e b e h i n d m e b u t h e r t m \n"
     ]
    }
   ],
   "source": [
    "# your code here\n",
    "from functools import reduce\n",
    "\n",
    "# تطبيق reduce لدمج الكلمات في نص واحد\n",
    "prophet_string = reduce(concat_words, prophet_filter)\n",
    "\n",
    "print(prophet_string[:200])"
   ]
  }
 ],
 "metadata": {
  "kernelspec": {
   "display_name": "Python 3",
   "language": "python",
   "name": "python3"
  },
  "language_info": {
   "codemirror_mode": {
    "name": "ipython",
    "version": 3
   },
   "file_extension": ".py",
   "mimetype": "text/x-python",
   "name": "python",
   "nbconvert_exporter": "python",
   "pygments_lexer": "ipython3",
   "version": "3.11.4"
  }
 },
 "nbformat": 4,
 "nbformat_minor": 2
}
